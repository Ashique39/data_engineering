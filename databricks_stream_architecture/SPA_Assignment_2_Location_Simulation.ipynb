{
 "cells": [
  {
   "cell_type": "code",
   "execution_count": 0,
   "metadata": {
    "application/vnd.databricks.v1+cell": {
     "cellMetadata": {
      "byteLimit": 2048000,
      "rowLimit": 10000
     },
     "inputWidgets": {},
     "nuid": "245d67cb-452a-4725-8940-d63794f23662",
     "showTitle": false,
     "title": ""
    }
   },
   "outputs": [],
   "source": [
    "# import urllib\n",
    "# access_key = \"***\"\n",
    "# secret_key = \"***\"\n",
    "\n",
    "# encoded_secret_key = urllib.parse.quote(secret_key, \"\")\n",
    "\n",
    "# bucket_name = 'spa-bucket-group-231'\n",
    "# mount_name = 's3_bucketdata_gr231'\n",
    "# #dbutils.fs.mount(\"s3n://%s:%s@%s\" % (access_key, encoded_secret_key, bucket_name), \"/mnt/%s\" % mount_name)\n",
    "\n"
   ]
  },
  {
   "cell_type": "code",
   "execution_count": 0,
   "metadata": {
    "application/vnd.databricks.v1+cell": {
     "cellMetadata": {
      "byteLimit": 2048000,
      "rowLimit": 10000
     },
     "inputWidgets": {},
     "nuid": "4ce55563-ca9a-4511-8729-abc20ff7536a",
     "showTitle": false,
     "title": ""
    }
   },
   "outputs": [
    {
     "name": "stdout",
     "output_type": "stream",
     "text": [
      "total 0\n"
     ]
    }
   ],
   "source": [
    "%sh\n",
    "\n",
    "ls -lrt /dbfs/mnt/s3_bucketdata_gr231/location_data/\n",
    "\n",
    "#ls -lrt /dbfs/mnt/s3_bucketdata_gr231/"
   ]
  },
  {
   "cell_type": "code",
   "execution_count": 0,
   "metadata": {
    "application/vnd.databricks.v1+cell": {
     "cellMetadata": {
      "byteLimit": 2048000,
      "rowLimit": 10000
     },
     "inputWidgets": {},
     "nuid": "bbc53a2a-ff67-4d57-9183-401e35b9a8b2",
     "showTitle": false,
     "title": ""
    }
   },
   "outputs": [],
   "source": [
    "import random\n",
    "import math\n",
    "import csv\n",
    "import pandas as pd\n",
    "import datetime\n",
    "import time\n",
    " \n",
    "\n"
   ]
  },
  {
   "cell_type": "code",
   "execution_count": 0,
   "metadata": {
    "application/vnd.databricks.v1+cell": {
     "cellMetadata": {
      "byteLimit": 2048000,
      "rowLimit": 10000
     },
     "inputWidgets": {},
     "nuid": "de75a450-1899-4893-b711-5e433e66e332",
     "showTitle": false,
     "title": ""
    }
   },
   "outputs": [],
   "source": [
    "# Constants for mall location (Bengaluru, India in this example)\n",
    "MALL_LATITUDE = 12.978388\n",
    "MALL_LONGITUDE = 77.594334\n",
    "EARTH_RADIUS_KM = 6371.0  # Radius of the Earth in kilometers\n",
    "RADIUS_KM = 5.0  # Desired radius in kilometers\n",
    "\n",
    " \n",
    "\n"
   ]
  },
  {
   "cell_type": "code",
   "execution_count": 0,
   "metadata": {
    "application/vnd.databricks.v1+cell": {
     "cellMetadata": {
      "byteLimit": 2048000,
      "rowLimit": 10000
     },
     "inputWidgets": {},
     "nuid": "0d343dd3-f328-4ef6-a8e5-7e5443130d94",
     "showTitle": false,
     "title": ""
    }
   },
   "outputs": [],
   "source": [
    "# Read data from the CSV file generated in Ex:1\n",
    "pizza_customer_cluster_df = pd.read_csv(\"/dbfs/mnt/s3_bucketdata_gr231/clustering_data/pizzacustomer_segmented.csv\")\n",
    "\n",
    " \n",
    "\n"
   ]
  },
  {
   "cell_type": "code",
   "execution_count": 0,
   "metadata": {
    "application/vnd.databricks.v1+cell": {
     "cellMetadata": {
      "byteLimit": 2048000,
      "rowLimit": 10000
     },
     "inputWidgets": {},
     "nuid": "3603f837-8f8c-42dd-8fe7-65de9af44acf",
     "showTitle": false,
     "title": ""
    }
   },
   "outputs": [],
   "source": [
    "# customer ids and label store them in a list\n",
    "#grouped = pizza_customer_cluster_df.groupby['CustomerID']\n",
    "grouped = list(zip(pizza_customer_cluster_df['CustomerID'], pizza_customer_cluster_df['cluster3']))\n",
    "#print(grouped)\n",
    "\n",
    " \n",
    "\n"
   ]
  },
  {
   "cell_type": "code",
   "execution_count": 0,
   "metadata": {
    "application/vnd.databricks.v1+cell": {
     "cellMetadata": {
      "byteLimit": 2048000,
      "rowLimit": 10000
     },
     "inputWidgets": {},
     "nuid": "e42da9c6-a353-49bf-a653-7b017524c815",
     "showTitle": false,
     "title": ""
    }
   },
   "outputs": [],
   "source": [
    "# Function to calculate the Haversine distance between two points in kilometers\n",
    "def calculate_haversine_distance(lat1, lon1, lat2, lon2):\n",
    "    # Convert latitude and longitude from degrees to radians\n",
    "    lat1 = math.radians(lat1)\n",
    "    lon1 = math.radians(lon1)\n",
    "    lat2 = math.radians(lat2)\n",
    "    lon2 = math.radians(lon2)\n",
    "\n",
    " \n",
    "\n",
    "    # Haversine formula\n",
    "    dlat = lat2 - lat1\n",
    "    dlon = lon2 - lon1\n",
    "    a = math.sin(dlat/2)**2 + math.cos(lat1) * math.cos(lat2) * math.sin(dlon/2)**2\n",
    "    c = 2 * math.atan2(math.sqrt(a), math.sqrt(1 - a))\n",
    "    distance = EARTH_RADIUS_KM * c\n",
    "\n",
    "    distance = distance\n",
    "\n",
    " \n",
    "\n",
    "    return distance\n",
    "\n",
    " \n",
    "\n"
   ]
  },
  {
   "cell_type": "code",
   "execution_count": 0,
   "metadata": {
    "application/vnd.databricks.v1+cell": {
     "cellMetadata": {
      "byteLimit": 2048000,
      "rowLimit": 10000
     },
     "inputWidgets": {},
     "nuid": "28c2b579-5c3e-4cdf-85d5-3b7d1a2ba34f",
     "showTitle": false,
     "title": ""
    }
   },
   "outputs": [],
   "source": [
    "# Function to generate random coordinates within a specified radius\n",
    "def generate_random_coordinates():\n",
    "    # Generate a random angle (in radians) for the direction\n",
    "    random_angle = random.uniform(0, 2 * math.pi)\n",
    "\n",
    " \n",
    "\n",
    "    # Generate a random distance within the specified radius\n",
    "    random_distance = random.uniform(0, RADIUS_KM / EARTH_RADIUS_KM)\n",
    "\n",
    " \n",
    "\n",
    "    # Calculate new latitude and longitude\n",
    "    new_latitude = MALL_LATITUDE + (random_distance * math.cos(random_angle))\n",
    "    new_longitude = MALL_LONGITUDE + (random_distance * math.sin(random_angle))\n",
    "\n",
    " \n",
    "\n",
    "    return round(new_latitude, 6), round(new_longitude, 6)\n",
    "\n",
    " \n",
    "\n"
   ]
  },
  {
   "cell_type": "code",
   "execution_count": 0,
   "metadata": {
    "application/vnd.databricks.v1+cell": {
     "cellMetadata": {
      "byteLimit": 2048000,
      "rowLimit": 10000
     },
     "inputWidgets": {},
     "nuid": "21f94883-2e2e-4b4b-8f62-330b0f679f8a",
     "showTitle": false,
     "title": ""
    }
   },
   "outputs": [],
   "source": [
    "# Generate coordinates for customers\n",
    "def generate_customer_location():\n",
    "   # Generate coordinates for customers and store them in a list\n",
    "    customer_data = []\n",
    "\n",
    "    # Iterate through the grouped data and append to the customer_data list\n",
    "    for item in grouped:\n",
    "        customer_id, cluster3 = item\n",
    "        customer_lat, customer_lon = generate_random_coordinates()\n",
    "        distance_to_mall = calculate_haversine_distance(MALL_LATITUDE, MALL_LONGITUDE, customer_lat, customer_lon)\n",
    "        customer_data.append([customer_id, cluster3,customer_lat,customer_lon,distance_to_mall])\n",
    "\n",
    " \n",
    "\n",
    "    # Write customer data to a CSV file\n",
    "    cts = datetime.datetime.now().strftime(\"%Y%m%d-%H%M%S\")\n",
    "    cust_location_filename='/dbfs/mnt/s3_bucketdata_gr231/location_data/customer_location_data_'+cts+'.csv'\n",
    "    with open(cust_location_filename, mode='w', newline='') as file:\n",
    "        writer = csv.writer(file)\n",
    "        writer.writerow(['customer_id', 'cluster3', 'latitude', 'longitude', 'distance_to_mall_km'])\n",
    "        writer.writerows(customer_data)\n",
    "\n"
   ]
  },
  {
   "cell_type": "code",
   "execution_count": 0,
   "metadata": {
    "application/vnd.databricks.v1+cell": {
     "cellMetadata": {
      "byteLimit": 2048000,
      "rowLimit": 10000
     },
     "inputWidgets": {},
     "nuid": "8c393c55-213b-41af-8d3e-d9971d370782",
     "showTitle": false,
     "title": ""
    }
   },
   "outputs": [],
   "source": [
    "def generate_realtime_data():\n",
    "    while True:\n",
    "        generate_customer_location()\n",
    "       # Wait for a random interval of 10 mins to simulate near real-time data\n",
    "        time.sleep(600)\n",
    "\n"
   ]
  },
  {
   "cell_type": "code",
   "execution_count": 0,
   "metadata": {
    "application/vnd.databricks.v1+cell": {
     "cellMetadata": {
      "byteLimit": 2048000,
      "rowLimit": 10000
     },
     "inputWidgets": {},
     "nuid": "398731a2-1f84-4eb0-befc-4d7c9990d32f",
     "showTitle": false,
     "title": ""
    }
   },
   "outputs": [],
   "source": [
    "generate_realtime_data()"
   ]
  }
 ],
 "metadata": {
  "application/vnd.databricks.v1+notebook": {
   "dashboards": [],
   "language": "python",
   "notebookMetadata": {
    "mostRecentlyExecutedCommandWithImplicitDF": {
     "commandId": 864178080253038,
     "dataframes": [
      "_sqldf"
     ]
    },
    "pythonIndentUnit": 4
   },
   "notebookName": "SPA_Assignment_2_Location_Simulation",
   "widgets": {}
  },
  "kernelspec": {
   "display_name": "Python 3 (ipykernel)",
   "language": "python",
   "name": "python3"
  },
  "language_info": {
   "codemirror_mode": {
    "name": "ipython",
    "version": 3
   },
   "file_extension": ".py",
   "mimetype": "text/x-python",
   "name": "python",
   "nbconvert_exporter": "python",
   "pygments_lexer": "ipython3",
   "version": "3.11.4"
  }
 },
 "nbformat": 4,
 "nbformat_minor": 1
}
